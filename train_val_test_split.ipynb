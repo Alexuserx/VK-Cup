{
 "cells": [
  {
   "cell_type": "code",
   "execution_count": 1,
   "metadata": {},
   "outputs": [],
   "source": [
    "import random\n",
    "import warnings\n",
    "\n",
    "import pandas as pd\n",
    "import numpy as np\n",
    "import polars as pl\n",
    "\n",
    "from typing import List, Union\n",
    "\n",
    "random.seed(2023)\n",
    "np.random.seed(2023)\n",
    "\n",
    "warnings.filterwarnings('ignore')"
   ]
  },
  {
   "cell_type": "code",
   "execution_count": 2,
   "metadata": {},
   "outputs": [],
   "source": [
    "train_df = pd.read_parquet('./data/train.parquet.gzip').rename_axis('timestamp').reset_index()\n",
    "test_df = pd.read_parquet('./data/test.parquet.gzip')"
   ]
  },
  {
   "attachments": {},
   "cell_type": "markdown",
   "metadata": {},
   "source": [
    "### Pandas train-val split and chrono split"
   ]
  },
  {
   "cell_type": "code",
   "execution_count": 3,
   "metadata": {},
   "outputs": [
    {
     "name": "stdout",
     "output_type": "stream",
     "text": [
      "Train All: 135_783_164\n",
      "Train NZ: 22_149_314\n",
      "Validation Targets NZ: 1_430_156\n",
      "Validation Targets All: 8_656_851\n",
      "Validation no Targets NZ: 3_281_276\n",
      "Validation no Targets All: 20_188_972\n"
     ]
    }
   ],
   "source": [
    "def chrono_split(\n",
    "        df: pd.DataFrame, \n",
    "        split_by_column: str = 'user_id', \n",
    "        ratio: float = 0.7, \n",
    "        col_timestamp: str = 'timestamp') -> List[pd.DataFrame]:\n",
    "\n",
    "    df = df.sort_values([split_by_column, col_timestamp])\n",
    "    groups = df.groupby(split_by_column)\n",
    "\n",
    "    df[\"count\"] = groups[split_by_column].transform(\"count\")\n",
    "    df[\"rank_s\"] = groups.cumcount() + 1\n",
    "\n",
    "    ratio = [ratio, 1 - ratio]\n",
    "    splits = []\n",
    "    prev_threshold = None\n",
    "    for threshold in np.cumsum(ratio):\n",
    "        condition = df[\"rank_s\"] <= round(threshold * df[\"count\"])\n",
    "        if prev_threshold is not None:\n",
    "            condition &= df[\"rank_s\"] > round(prev_threshold * df[\"count\"])\n",
    "        splits.append(df[condition].drop([\"rank_s\", \"count\"], axis=1))\n",
    "        prev_threshold = threshold\n",
    "\n",
    "    return splits\n",
    "\n",
    "def train_val_split(\n",
    "        train_df: pd.DataFrame, \n",
    "        val_users_n: int = 200_000) -> tuple[pd.DataFrame, pd.DataFrame, pd.DataFrame]:\n",
    "    \n",
    "    user_ids = train_df['user_id'].unique()\n",
    "    user_ids_val = random.sample(list(user_ids), val_users_n)\n",
    "    condition = train_df['user_id'].isin(user_ids_val)\n",
    "\n",
    "    val = train_df[condition]\n",
    "    val_no_targets, val_targets = chrono_split(val, ratio=0.7)\n",
    "\n",
    "    train = pd.concat([train_df[~condition], val_no_targets]).sort_values('timestamp')\n",
    "    return train, val_no_targets, val_targets\n",
    "\n",
    "train_split, val_no_targets, val_targets = train_val_split(\n",
    "    train_df, # [train_df['user_id'].isin(test_df['user_id'].values)],\n",
    "    val_users_n = 200_000\n",
    "    )\n",
    "\n",
    "print(f'Train All: {train_split.shape[0]:_}')\n",
    "print(f\"Train NZ: {train_split[train_split['timespent'] != 0].shape[0]:_}\")\n",
    "\n",
    "print(f\"Validation Targets NZ: {val_targets[val_targets['timespent'] != 0].shape[0]:_}\")\n",
    "print(f'Validation Targets All: {val_targets.shape[0]:_}')\n",
    "\n",
    "print(f\"Validation no Targets NZ: {val_no_targets[val_no_targets['timespent'] != 0].shape[0]:_}\")\n",
    "print(f'Validation no Targets All: {val_no_targets.shape[0]:_}')"
   ]
  },
  {
   "attachments": {},
   "cell_type": "markdown",
   "metadata": {},
   "source": [
    "### Polars train-val split and chrono split"
   ]
  },
  {
   "cell_type": "code",
   "execution_count": 4,
   "metadata": {},
   "outputs": [],
   "source": [
    "train_df_pl = pl.from_pandas(train_df)\n",
    "test_df_pl = pl.from_pandas(test_df)"
   ]
  },
  {
   "cell_type": "code",
   "execution_count": 5,
   "metadata": {},
   "outputs": [
    {
     "name": "stdout",
     "output_type": "stream",
     "text": [
      "Train All: 115_480_428\n",
      "Train NZ: 18_859_896\n",
      "Validation All: 28_959_587\n",
      "Validation NZ: 4_719_574\n"
     ]
    }
   ],
   "source": [
    "def train_val_split(\n",
    "        train_df: pl.DataFrame, \n",
    "        val_users_n: int = 200_000) -> List[pd.DataFrame]:\n",
    "    \n",
    "    user_ids = train_df['user_id'].unique()\n",
    "    user_ids_val = random.sample(list(user_ids), val_users_n)\n",
    "    condition = pl.col('user_id').is_in(user_ids_val)\n",
    "\n",
    "    return train_df.filter(~condition), train_df.filter(condition)\n",
    "\n",
    "train_pt, val = train_val_split(\n",
    "    train_df_pl, # .filter(~pl.col('user_id').is_in(test_df_pl['user_id'])),\n",
    "    val_users_n = 200_000\n",
    "    )\n",
    "\n",
    "print(f'Train All: {train_pt.shape[0]:_}')\n",
    "print(f\"Train NZ: {train_pt.filter(pl.col('timespent') != 0).shape[0]:_}\")\n",
    "\n",
    "print(f'Validation All: {val.shape[0]:_}')\n",
    "print(f\"Validation NZ: {val.filter(pl.col('timespent') != 0).shape[0]:_}\")"
   ]
  },
  {
   "cell_type": "code",
   "execution_count": 6,
   "metadata": {},
   "outputs": [
    {
     "name": "stdout",
     "output_type": "stream",
     "text": [
      "Validation Targets NZ: 1_410_115\n",
      "Validation Targets All: 8_580_193\n",
      "Validation no Targets NZ: 3_309_459\n",
      "Validation no Targets All: 20_379_394\n"
     ]
    }
   ],
   "source": [
    "from typing import List, Union\n",
    "\n",
    "def chrono_split(\n",
    "        df: Union[pl.DataFrame, pd.DataFrame], \n",
    "        split_by_column: str = 'user_id', \n",
    "        ratio: float = 0.7, \n",
    "        col_timestamp: str = 'timestamp') -> List[pd.DataFrame]:\n",
    "    \n",
    "    if isinstance(df, pd.DataFrame):\n",
    "        df = pl.from_pandas(df)\n",
    "\n",
    "    df = df.sort([split_by_column, col_timestamp])\n",
    "    df = df.with_columns([\n",
    "        pl.col('user_id').cumcount().over(['user_id']).alias('rank_s'),\n",
    "        pl.col('user_id').count().over(['user_id']).alias('count')\n",
    "        ])\n",
    "    \n",
    "    ratio = [ratio, 1 - ratio]\n",
    "    splits = []\n",
    "    prev_threshold = None\n",
    "    for threshold in np.cumsum(ratio):\n",
    "        condition = df[\"rank_s\"] <= (threshold * df[\"count\"]) #.round(0)\n",
    "        if prev_threshold is not None:\n",
    "            condition &= df[\"rank_s\"] > (prev_threshold * df[\"count\"]) #.round(0)\n",
    "\n",
    "        splits.append(\n",
    "            df.filter(condition)\n",
    "              .drop([\"rank_s\", \"count\"])\n",
    "              .to_pandas()\n",
    "              .set_index('timestamp')\n",
    "              )\n",
    "        \n",
    "        prev_threshold = threshold\n",
    "\n",
    "    return splits    \n",
    "\n",
    "val_no_targets, val_targets = chrono_split(val, ratio=0.7)\n",
    "\n",
    "print(f\"Validation Targets NZ: {val_targets[val_targets['timespent'] != 0].shape[0]:_}\")\n",
    "print(f'Validation Targets All: {val_targets.shape[0]:_}')\n",
    "\n",
    "print(f\"Validation no Targets NZ: {val_no_targets[val_no_targets['timespent'] != 0].shape[0]:_}\")\n",
    "print(f'Validation no Targets All: {val_no_targets.shape[0]:_}')"
   ]
  },
  {
   "cell_type": "code",
   "execution_count": 7,
   "metadata": {},
   "outputs": [
    {
     "name": "stdout",
     "output_type": "stream",
     "text": [
      "Train All: 135_859_822\n",
      "Train NZ: 22_169_355\n"
     ]
    }
   ],
   "source": [
    "train_split = pl.concat([train_pt, pl.from_pandas(val_no_targets.reset_index())]).sort(['timestamp']).to_pandas()\n",
    "\n",
    "print(f'Train All: {train_split.shape[0]:_}')\n",
    "print(f\"Train NZ: {train_split[train_split['timespent'] != 0].shape[0]:_}\")"
   ]
  },
  {
   "cell_type": "code",
   "execution_count": 8,
   "metadata": {},
   "outputs": [],
   "source": [
    "train_split.set_index('timestamp').to_parquet('./data/splits/train.parquet.gzip', compression='gzip')\n",
    "val_no_targets.to_parquet('./data/splits/val_no_targets.parquet.gzip', compression='gzip')\n",
    "val_targets.to_parquet('./data/splits/val_targets.parquet.gzip', compression='gzip')"
   ]
  }
 ],
 "metadata": {
  "kernelspec": {
   "display_name": "Python 3",
   "language": "python",
   "name": "python3"
  },
  "language_info": {
   "codemirror_mode": {
    "name": "ipython",
    "version": 3
   },
   "file_extension": ".py",
   "mimetype": "text/x-python",
   "name": "python",
   "nbconvert_exporter": "python",
   "pygments_lexer": "ipython3",
   "version": "3.10.9"
  },
  "orig_nbformat": 4,
  "vscode": {
   "interpreter": {
    "hash": "be9aa36d7e3afdff118a475fbad3be8b1fefaba27a5e9b3c7f20b4e187884c51"
   }
  }
 },
 "nbformat": 4,
 "nbformat_minor": 2
}
