{
 "cells": [
  {
   "cell_type": "code",
   "execution_count": 1,
   "metadata": {},
   "outputs": [],
   "source": [
    "import numpy as np\n",
    "import polars as pl\n",
    "\n",
    "import lightgbm\n",
    "\n",
    "from recommenders.utils import fix_dtypes"
   ]
  },
  {
   "cell_type": "code",
   "execution_count": 2,
   "metadata": {},
   "outputs": [],
   "source": [
    "test_path = './data/features/merged_features_test.parquet.gzip'\n",
    "merged_test = fix_dtypes(pl.read_parquet(test_path))"
   ]
  },
  {
   "cell_type": "code",
   "execution_count": 3,
   "metadata": {},
   "outputs": [
    {
     "name": "stdout",
     "output_type": "stream",
     "text": [
      "Test shape: (146573625, 35)\n"
     ]
    }
   ],
   "source": [
    "merged_test = merged_test.to_pandas()\n",
    "print(f'Test shape: {merged_test.shape}')"
   ]
  },
  {
   "cell_type": "code",
   "execution_count": 4,
   "metadata": {},
   "outputs": [],
   "source": [
    "ranker = lightgbm.Booster(model_file='./models/lgb/ranker_32feat_2902it.lgb')"
   ]
  },
  {
   "cell_type": "code",
   "execution_count": 8,
   "metadata": {},
   "outputs": [
    {
     "name": "stdout",
     "output_type": "stream",
     "text": [
      "Started chank: 0, Chank idxs: 0 : 20_000_000...\n",
      "Chank size: (20000000, 32)\n",
      "Started chank: 1, Chank idxs: 20_000_000 : 40_000_000...\n",
      "Chank size: (20000000, 32)\n",
      "Started chank: 2, Chank idxs: 40_000_000 : 60_000_000...\n",
      "Chank size: (20000000, 32)\n",
      "Started chank: 3, Chank idxs: 60_000_000 : 80_000_000...\n",
      "Chank size: (20000000, 32)\n",
      "Started chank: 4, Chank idxs: 80_000_000 : 100_000_000...\n",
      "Chank size: (20000000, 32)\n",
      "Started chank: 5, Chank idxs: 100_000_000 : 120_000_000...\n",
      "Chank size: (20000000, 32)\n",
      "Started chank: 6, Chank idxs: 120_000_000 : 140_000_000...\n",
      "Chank size: (20000000, 32)\n",
      "Started chank: 7, Chank idxs: 140_000_000 : 160_000_000...\n",
      "Chank size: (6573625, 32)\n"
     ]
    }
   ],
   "source": [
    "SUPPP_COLS = ['user_id', 'item_id', 'source_id']\n",
    "\n",
    "chank_size = 20_000_000\n",
    "predictions_list = []\n",
    "\n",
    "for i, chank in enumerate(range(0, merged_test.shape[0], chank_size)):\n",
    "    print(f\"Started chank: {i}, Chank idxs: {chank:_} : {(chank + chank_size):_}...\")\n",
    "    test_chank = merged_test.iloc[chank : chank + chank_size].drop(columns=SUPPP_COLS)\n",
    "    print(f\"Chank size: {test_chank.shape}\")\n",
    "    chank_preds = ranker.predict(test_chank.to_numpy())\n",
    "    predictions_list.append(chank_preds)"
   ]
  },
  {
   "cell_type": "code",
   "execution_count": 9,
   "metadata": {},
   "outputs": [
    {
     "name": "stdout",
     "output_type": "stream",
     "text": [
      "(146573625,)\n"
     ]
    }
   ],
   "source": [
    "concated_preds = np.concatenate(predictions_list, axis=0)\n",
    "print(concated_preds.shape)"
   ]
  },
  {
   "cell_type": "code",
   "execution_count": 10,
   "metadata": {},
   "outputs": [
    {
     "name": "stderr",
     "output_type": "stream",
     "text": [
      "C:\\Users\\alexuserx\\AppData\\Local\\Temp\\ipykernel_9076\\124786512.py:2: SettingWithCopyWarning: \n",
      "A value is trying to be set on a copy of a slice from a DataFrame.\n",
      "Try using .loc[row_indexer,col_indexer] = value instead\n",
      "\n",
      "See the caveats in the documentation: https://pandas.pydata.org/pandas-docs/stable/user_guide/indexing.html#returning-a-view-versus-a-copy\n",
      "  prediction_df['predictions'] = concated_preds\n"
     ]
    },
    {
     "data": {
      "text/html": [
       "<div>\n",
       "<style scoped>\n",
       "    .dataframe tbody tr th:only-of-type {\n",
       "        vertical-align: middle;\n",
       "    }\n",
       "\n",
       "    .dataframe tbody tr th {\n",
       "        vertical-align: top;\n",
       "    }\n",
       "\n",
       "    .dataframe thead th {\n",
       "        text-align: right;\n",
       "    }\n",
       "</style>\n",
       "<table border=\"1\" class=\"dataframe\">\n",
       "  <thead>\n",
       "    <tr style=\"text-align: right;\">\n",
       "      <th></th>\n",
       "      <th>user_id</th>\n",
       "      <th>predictions</th>\n",
       "    </tr>\n",
       "  </thead>\n",
       "  <tbody>\n",
       "    <tr>\n",
       "      <th>0</th>\n",
       "      <td>7</td>\n",
       "      <td>[115127, 221001, 77577, 162251, 35482, 12697, ...</td>\n",
       "    </tr>\n",
       "    <tr>\n",
       "      <th>1</th>\n",
       "      <td>8</td>\n",
       "      <td>[97249, 142183, 163702, 44222, 172180, 134460,...</td>\n",
       "    </tr>\n",
       "    <tr>\n",
       "      <th>2</th>\n",
       "      <td>9</td>\n",
       "      <td>[29054, 105130, 227299, 32474, 53603, 149513, ...</td>\n",
       "    </tr>\n",
       "    <tr>\n",
       "      <th>3</th>\n",
       "      <td>11</td>\n",
       "      <td>[191744, 168651, 83212, 187465, 140293, 97505,...</td>\n",
       "    </tr>\n",
       "    <tr>\n",
       "      <th>4</th>\n",
       "      <td>18</td>\n",
       "      <td>[117495, 120767, 189621, 91967, 206293, 41635,...</td>\n",
       "    </tr>\n",
       "    <tr>\n",
       "      <th>...</th>\n",
       "      <td>...</td>\n",
       "      <td>...</td>\n",
       "    </tr>\n",
       "    <tr>\n",
       "      <th>199995</th>\n",
       "      <td>1000160</td>\n",
       "      <td>[220549, 103409, 173500, 7765, 22512, 190438, ...</td>\n",
       "    </tr>\n",
       "    <tr>\n",
       "      <th>199996</th>\n",
       "      <td>1000165</td>\n",
       "      <td>[76464, 3800, 36759, 74367, 225171, 186660, 11...</td>\n",
       "    </tr>\n",
       "    <tr>\n",
       "      <th>199997</th>\n",
       "      <td>1000166</td>\n",
       "      <td>[35482, 23837, 14760, 66499, 73237, 101474, 16...</td>\n",
       "    </tr>\n",
       "    <tr>\n",
       "      <th>199998</th>\n",
       "      <td>1000168</td>\n",
       "      <td>[150028, 186660, 179166, 141730, 200730, 84951...</td>\n",
       "    </tr>\n",
       "    <tr>\n",
       "      <th>199999</th>\n",
       "      <td>1000172</td>\n",
       "      <td>[186660, 33213, 117317, 17210, 71696, 3800, 32...</td>\n",
       "    </tr>\n",
       "  </tbody>\n",
       "</table>\n",
       "<p>200000 rows × 2 columns</p>\n",
       "</div>"
      ],
      "text/plain": [
       "        user_id                                        predictions\n",
       "0             7  [115127, 221001, 77577, 162251, 35482, 12697, ...\n",
       "1             8  [97249, 142183, 163702, 44222, 172180, 134460,...\n",
       "2             9  [29054, 105130, 227299, 32474, 53603, 149513, ...\n",
       "3            11  [191744, 168651, 83212, 187465, 140293, 97505,...\n",
       "4            18  [117495, 120767, 189621, 91967, 206293, 41635,...\n",
       "...         ...                                                ...\n",
       "199995  1000160  [220549, 103409, 173500, 7765, 22512, 190438, ...\n",
       "199996  1000165  [76464, 3800, 36759, 74367, 225171, 186660, 11...\n",
       "199997  1000166  [35482, 23837, 14760, 66499, 73237, 101474, 16...\n",
       "199998  1000168  [150028, 186660, 179166, 141730, 200730, 84951...\n",
       "199999  1000172  [186660, 33213, 117317, 17210, 71696, 3800, 32...\n",
       "\n",
       "[200000 rows x 2 columns]"
      ]
     },
     "execution_count": 10,
     "metadata": {},
     "output_type": "execute_result"
    }
   ],
   "source": [
    "prediction_df = merged_test[['user_id', 'item_id']]\n",
    "prediction_df['predictions'] = concated_preds\n",
    "\n",
    "prediction_df = prediction_df.sort_values(['user_id', 'predictions'], ascending=[True, False])\n",
    "prediction_df['rank'] = prediction_df.groupby('user_id').cumcount()\n",
    "\n",
    "prf = prediction_df[prediction_df['rank'] < 20].groupby('user_id', as_index=False)['item_id'].agg(list)\n",
    "prf = prf.rename(columns={'item_id': 'predictions'})\n",
    "prf"
   ]
  },
  {
   "cell_type": "code",
   "execution_count": 12,
   "metadata": {},
   "outputs": [],
   "source": [
    "prf.to_parquet('./data/submissions/sub_final.parquet.gzip', compression='gzip')"
   ]
  },
  {
   "cell_type": "code",
   "execution_count": null,
   "metadata": {},
   "outputs": [],
   "source": []
  },
  {
   "cell_type": "code",
   "execution_count": null,
   "metadata": {},
   "outputs": [],
   "source": []
  },
  {
   "cell_type": "code",
   "execution_count": null,
   "metadata": {},
   "outputs": [],
   "source": []
  },
  {
   "cell_type": "code",
   "execution_count": null,
   "metadata": {},
   "outputs": [],
   "source": []
  }
 ],
 "metadata": {
  "kernelspec": {
   "display_name": "Python 3",
   "language": "python",
   "name": "python3"
  },
  "language_info": {
   "codemirror_mode": {
    "name": "ipython",
    "version": 3
   },
   "file_extension": ".py",
   "mimetype": "text/x-python",
   "name": "python",
   "nbconvert_exporter": "python",
   "pygments_lexer": "ipython3",
   "version": "3.10.9"
  },
  "orig_nbformat": 4,
  "vscode": {
   "interpreter": {
    "hash": "be9aa36d7e3afdff118a475fbad3be8b1fefaba27a5e9b3c7f20b4e187884c51"
   }
  }
 },
 "nbformat": 4,
 "nbformat_minor": 2
}
