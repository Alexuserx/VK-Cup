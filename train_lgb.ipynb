{
 "cells": [
  {
   "cell_type": "code",
   "execution_count": 3,
   "metadata": {},
   "outputs": [],
   "source": [
    "import polars as pl\n",
    "\n",
    "import lightgbm\n",
    "\n",
    "from recommenders.utils import fix_dtypes"
   ]
  },
  {
   "cell_type": "code",
   "execution_count": 4,
   "metadata": {},
   "outputs": [
    {
     "name": "stdout",
     "output_type": "stream",
     "text": [
      "Val shape: (149810474, 36)\n"
     ]
    }
   ],
   "source": [
    "val_path = './data/features/merged_features_val.parquet.gzip'\n",
    "merged_val = fix_dtypes(pl.read_parquet(val_path))\n",
    "\n",
    "print(f'Val shape: {merged_val.shape}')"
   ]
  },
  {
   "cell_type": "code",
   "execution_count": 6,
   "metadata": {},
   "outputs": [],
   "source": [
    "unique_users = merged_val['user_id'].unique().to_list()\n",
    "\n",
    "user_id2idx = dict(zip(unique_users, range(len(unique_users))))\n",
    "merged_val = merged_val.with_columns([pl.col('user_id').apply(lambda x: user_id2idx[x]).alias('user_id')])"
   ]
  },
  {
   "cell_type": "code",
   "execution_count": 7,
   "metadata": {},
   "outputs": [
    {
     "name": "stdout",
     "output_type": "stream",
     "text": [
      "(127341341, 36) (22469133, 36)\n"
     ]
    }
   ],
   "source": [
    "train_pt = merged_val.filter(pl.col('user_id') <= 0.85 * len(unique_users))\n",
    "val_pt = merged_val.filter(pl.col('user_id') > 0.85 * len(unique_users))\n",
    "print(train_pt.shape, val_pt.shape)"
   ]
  },
  {
   "cell_type": "code",
   "execution_count": 15,
   "metadata": {},
   "outputs": [],
   "source": [
    "train_pt_grouped = train_pt.groupby('user_id').agg(pl.col('timespent').sum())\n",
    "user_idx = train_pt_grouped['user_id'].to_list()\n",
    "timespent = train_pt_grouped['timespent'].to_list()\n",
    "timespent_dict = dict(zip(user_idx, timespent))"
   ]
  },
  {
   "cell_type": "code",
   "execution_count": 17,
   "metadata": {},
   "outputs": [
    {
     "name": "stdout",
     "output_type": "stream",
     "text": [
      "Train shape: (127341341, 36)\n",
      "Negatives shape: 102677274, Positives shape: 521012\n",
      "Negatives to keep: 30803182\n",
      "Train shape: (31324194, 36)\n",
      "Train positives: (521012, 36)\n"
     ]
    }
   ],
   "source": [
    "def filter_zero_groups(df: pl.DataFrame) -> pl.DataFrame:\n",
    "    train_pt_grouped = train_pt.groupby('user_id').agg(pl.col('timespent').sum())\n",
    "    user_idx = train_pt_grouped['user_id'].to_list()\n",
    "    timespent = train_pt_grouped['timespent'].to_list()\n",
    "    timespent_dict = dict(zip(user_idx, timespent))\n",
    "    nz_users = [user_id for user_id in timespent_dict if timespent_dict[user_id] > 0]\n",
    "    return df.filter(pl.col('user_id').is_in(nz_users))\n",
    "\n",
    "def downsample_negatives(df: pl.DataFrame, keep: float = None, proportion: int = None) -> pl.DataFrame:\n",
    "    positives_mask = (pl.col('timespent') != 0)\n",
    "    positives = df.filter(positives_mask)\n",
    "    negatives = df.filter(~positives_mask)\n",
    "    print(f'Negatives shape: {negatives.shape[0]}, Positives shape: {positives.shape[0]}')\n",
    "    if keep is not None:\n",
    "        keep_num_negatives = int(keep * negatives.shape[0])\n",
    "    elif proportion is not None:\n",
    "        keep_num_negatives = proportion * positives.shape[0]\n",
    "    print(f'Negatives to keep: {keep_num_negatives}')\n",
    "    negatives = negatives.sample(n=keep_num_negatives, shuffle=True)\n",
    "    return pl.concat([positives, negatives]).sample(frac=1, shuffle=True)\n",
    "\n",
    "print(f'Train shape: {train_pt.shape}')\n",
    "train_pt_downsampled = downsample_negatives(filter_zero_groups(train_pt), keep=0.3)\n",
    "print(f'Train shape: {train_pt_downsampled.shape}')\n",
    "print(f'Train positives: {train_pt_downsampled.filter(pl.col(\"timespent\") != 0).shape}')"
   ]
  },
  {
   "cell_type": "code",
   "execution_count": 18,
   "metadata": {},
   "outputs": [
    {
     "name": "stdout",
     "output_type": "stream",
     "text": [
      "Feature columns number: 32\n"
     ]
    }
   ],
   "source": [
    "features_columns = [col for col in merged_val.columns if col not in ['user_id', 'item_id', 'timespent', 'source_id']]\n",
    "print(f'Feature columns number: {len(features_columns)}')"
   ]
  },
  {
   "cell_type": "code",
   "execution_count": 21,
   "metadata": {},
   "outputs": [
    {
     "name": "stdout",
     "output_type": "stream",
     "text": [
      "Train WZ: 30_803_182\n",
      "Train NZ: 521_012\n",
      "Train downsampled WZ: 30_803_182\n",
      "Train downsampled NZ : 521_012\n",
      "Val WZ: 22_377_883\n",
      "Val NZ: 91_250\n"
     ]
    }
   ],
   "source": [
    "nz_timespent_mask = (train_pt_downsampled['timespent'] == 0)\n",
    "print(f\"Train WZ: {train_pt_downsampled.filter(nz_timespent_mask).shape[0]:_}\")\n",
    "print(f'Train NZ: {train_pt_downsampled.filter(~nz_timespent_mask).shape[0]:_}')\n",
    "\n",
    "nz_timespent_mask = (train_pt_downsampled['timespent'] == 0)\n",
    "print(f\"Train downsampled WZ: {train_pt_downsampled.filter(nz_timespent_mask).shape[0]:_}\")\n",
    "print(f'Train downsampled NZ : {train_pt_downsampled.filter(~nz_timespent_mask).shape[0]:_}')\n",
    "\n",
    "nz_timespent_mask = (val_pt['timespent'] == 0)\n",
    "print(f\"Val WZ: {val_pt.filter(nz_timespent_mask).shape[0]:_}\")\n",
    "print(f'Val NZ: {val_pt.filter(~nz_timespent_mask).shape[0]:_}')"
   ]
  },
  {
   "cell_type": "code",
   "execution_count": 22,
   "metadata": {},
   "outputs": [],
   "source": [
    "train_pt_downsampled = train_pt_downsampled.sort(['user_id'])\n",
    "val_pt = val_pt.sample(frac=1, shuffle=True)\n",
    "val_pt = val_pt.sort(['user_id'])\n",
    "\n",
    "SUPPP_COLS = ['user_id', 'item_id', 'timespent', 'source_id']\n",
    "\n",
    "X_train = train_pt_downsampled.drop(SUPPP_COLS).to_numpy()\n",
    "X_val = val_pt.drop(SUPPP_COLS).to_numpy()\n",
    "\n",
    "y_train = train_pt_downsampled['timespent'].to_numpy()\n",
    "y_val = val_pt['timespent'].to_numpy()\n",
    "\n",
    "group_train = train_pt_downsampled.groupby('user_id').agg(pl.col('timespent').count())['timespent'].to_list()\n",
    "group_val = val_pt.groupby('user_id').agg(pl.col('timespent').count())['timespent'].to_list()"
   ]
  },
  {
   "cell_type": "code",
   "execution_count": 23,
   "metadata": {},
   "outputs": [
    {
     "name": "stdout",
     "output_type": "stream",
     "text": [
      "(31324194, 32) (31324194,)\n",
      "(22469133, 32) (22469133,)\n",
      "138050 29999\n",
      "31324194 22469133\n",
      "301 843\n"
     ]
    }
   ],
   "source": [
    "print(X_train.shape, y_train.shape)\n",
    "print(X_val.shape, y_val.shape)\n",
    "print(len(group_train), len(group_val))\n",
    "print(sum(group_train), sum(group_val))\n",
    "print(max(group_train), max(group_val))"
   ]
  },
  {
   "cell_type": "code",
   "execution_count": 24,
   "metadata": {},
   "outputs": [],
   "source": [
    "# clear memory\n",
    "val_pt_cols = val_pt.drop(SUPPP_COLS).columns\n",
    "del train_pt_downsampled\n",
    "del train_pt\n",
    "del val_pt"
   ]
  },
  {
   "cell_type": "code",
   "execution_count": 25,
   "metadata": {},
   "outputs": [],
   "source": [
    "data_params = None\n",
    "\n",
    "dataset_train = lightgbm.Dataset(\n",
    "    data=X_train, \n",
    "    label=y_train, \n",
    "    group=group_train,\n",
    "    params=data_params\n",
    "    )\n",
    "\n",
    "dataset_val = lightgbm.Dataset(\n",
    "    data=X_val, \n",
    "    label=y_val, \n",
    "    group=group_val,\n",
    "    reference=dataset_train, \n",
    "    params=data_params\n",
    "    )"
   ]
  },
  {
   "cell_type": "code",
   "execution_count": 26,
   "metadata": {},
   "outputs": [
    {
     "name": "stdout",
     "output_type": "stream",
     "text": [
      "[LightGBM] [Info] Total groups: 138050, total data: 31324194\n",
      "[LightGBM] [Info] Total Bins 8148\n",
      "[LightGBM] [Info] Number of data points in the train set: 31324194, number of used features: 32\n",
      "[LightGBM] [Info] Total groups: 29999, total data: 22469133\n",
      "Training until validation scores don't improve for 100 rounds\n",
      "[50]\tvalid_0's ndcg@20: 0.334795\tvalid_0's map@20: 0.262632\n",
      "[100]\tvalid_0's ndcg@20: 0.344661\tvalid_0's map@20: 0.26893\n",
      "[150]\tvalid_0's ndcg@20: 0.350643\tvalid_0's map@20: 0.272869\n",
      "[200]\tvalid_0's ndcg@20: 0.35479\tvalid_0's map@20: 0.275617\n",
      "[250]\tvalid_0's ndcg@20: 0.358015\tvalid_0's map@20: 0.277824\n",
      "[300]\tvalid_0's ndcg@20: 0.360646\tvalid_0's map@20: 0.279695\n",
      "[350]\tvalid_0's ndcg@20: 0.362662\tvalid_0's map@20: 0.281141\n",
      "[400]\tvalid_0's ndcg@20: 0.364737\tvalid_0's map@20: 0.282634\n",
      "[450]\tvalid_0's ndcg@20: 0.366377\tvalid_0's map@20: 0.283846\n",
      "[500]\tvalid_0's ndcg@20: 0.367602\tvalid_0's map@20: 0.284714\n",
      "[550]\tvalid_0's ndcg@20: 0.368606\tvalid_0's map@20: 0.285524\n",
      "[600]\tvalid_0's ndcg@20: 0.369595\tvalid_0's map@20: 0.286171\n",
      "[650]\tvalid_0's ndcg@20: 0.370254\tvalid_0's map@20: 0.286574\n",
      "[700]\tvalid_0's ndcg@20: 0.370879\tvalid_0's map@20: 0.287091\n",
      "[750]\tvalid_0's ndcg@20: 0.371537\tvalid_0's map@20: 0.287603\n",
      "[800]\tvalid_0's ndcg@20: 0.372199\tvalid_0's map@20: 0.288085\n",
      "[850]\tvalid_0's ndcg@20: 0.372651\tvalid_0's map@20: 0.288511\n",
      "[900]\tvalid_0's ndcg@20: 0.372994\tvalid_0's map@20: 0.288681\n",
      "[950]\tvalid_0's ndcg@20: 0.373269\tvalid_0's map@20: 0.28896\n",
      "[1000]\tvalid_0's ndcg@20: 0.373843\tvalid_0's map@20: 0.28932\n",
      "[1050]\tvalid_0's ndcg@20: 0.374309\tvalid_0's map@20: 0.289643\n",
      "[1100]\tvalid_0's ndcg@20: 0.374664\tvalid_0's map@20: 0.290004\n",
      "[1150]\tvalid_0's ndcg@20: 0.374999\tvalid_0's map@20: 0.290248\n",
      "[1200]\tvalid_0's ndcg@20: 0.375204\tvalid_0's map@20: 0.290445\n",
      "[1250]\tvalid_0's ndcg@20: 0.37551\tvalid_0's map@20: 0.290693\n",
      "[1300]\tvalid_0's ndcg@20: 0.375747\tvalid_0's map@20: 0.290881\n",
      "[1350]\tvalid_0's ndcg@20: 0.375917\tvalid_0's map@20: 0.291047\n",
      "[1400]\tvalid_0's ndcg@20: 0.376113\tvalid_0's map@20: 0.291204\n",
      "[1450]\tvalid_0's ndcg@20: 0.376484\tvalid_0's map@20: 0.291421\n",
      "[1500]\tvalid_0's ndcg@20: 0.376541\tvalid_0's map@20: 0.291584\n",
      "[1550]\tvalid_0's ndcg@20: 0.376609\tvalid_0's map@20: 0.291605\n",
      "[1600]\tvalid_0's ndcg@20: 0.376898\tvalid_0's map@20: 0.291812\n",
      "[1650]\tvalid_0's ndcg@20: 0.376968\tvalid_0's map@20: 0.291869\n",
      "[1700]\tvalid_0's ndcg@20: 0.377053\tvalid_0's map@20: 0.291961\n",
      "[1750]\tvalid_0's ndcg@20: 0.377277\tvalid_0's map@20: 0.292137\n",
      "[1800]\tvalid_0's ndcg@20: 0.377301\tvalid_0's map@20: 0.292212\n",
      "[1850]\tvalid_0's ndcg@20: 0.377435\tvalid_0's map@20: 0.29232\n",
      "[1900]\tvalid_0's ndcg@20: 0.377841\tvalid_0's map@20: 0.292601\n",
      "[1950]\tvalid_0's ndcg@20: 0.37786\tvalid_0's map@20: 0.292622\n",
      "[2000]\tvalid_0's ndcg@20: 0.378093\tvalid_0's map@20: 0.292818\n",
      "[2050]\tvalid_0's ndcg@20: 0.37822\tvalid_0's map@20: 0.292831\n",
      "[2100]\tvalid_0's ndcg@20: 0.378427\tvalid_0's map@20: 0.293025\n",
      "[2150]\tvalid_0's ndcg@20: 0.378487\tvalid_0's map@20: 0.293058\n",
      "[2200]\tvalid_0's ndcg@20: 0.378734\tvalid_0's map@20: 0.293221\n",
      "[2250]\tvalid_0's ndcg@20: 0.378832\tvalid_0's map@20: 0.293332\n",
      "[2300]\tvalid_0's ndcg@20: 0.378982\tvalid_0's map@20: 0.293507\n",
      "[2350]\tvalid_0's ndcg@20: 0.378986\tvalid_0's map@20: 0.293531\n",
      "[2400]\tvalid_0's ndcg@20: 0.379161\tvalid_0's map@20: 0.293639\n",
      "[2450]\tvalid_0's ndcg@20: 0.379209\tvalid_0's map@20: 0.293596\n",
      "[2500]\tvalid_0's ndcg@20: 0.379266\tvalid_0's map@20: 0.29362\n",
      "[2550]\tvalid_0's ndcg@20: 0.379386\tvalid_0's map@20: 0.293702\n",
      "[2600]\tvalid_0's ndcg@20: 0.379504\tvalid_0's map@20: 0.293831\n",
      "[2650]\tvalid_0's ndcg@20: 0.379702\tvalid_0's map@20: 0.294019\n",
      "[2700]\tvalid_0's ndcg@20: 0.379884\tvalid_0's map@20: 0.294156\n",
      "[2750]\tvalid_0's ndcg@20: 0.379974\tvalid_0's map@20: 0.2943\n",
      "[2800]\tvalid_0's ndcg@20: 0.380016\tvalid_0's map@20: 0.294322\n",
      "[2850]\tvalid_0's ndcg@20: 0.380233\tvalid_0's map@20: 0.294499\n",
      "[2900]\tvalid_0's ndcg@20: 0.380288\tvalid_0's map@20: 0.294589\n",
      "[2950]\tvalid_0's ndcg@20: 0.380196\tvalid_0's map@20: 0.294568\n",
      "[3000]\tvalid_0's ndcg@20: 0.380117\tvalid_0's map@20: 0.294485\n",
      "Early stopping, best iteration is:\n",
      "[2902]\tvalid_0's ndcg@20: 0.380295\tvalid_0's map@20: 0.294592\n"
     ]
    }
   ],
   "source": [
    "params = {\n",
    "    \"objective\": \"lambdarank\",\n",
    "    \"metric\": [\"ndcg\", \"map\"],\n",
    "    \"eval_at\": 20,\n",
    "    \"boosting_type\": \"gbdt\",\n",
    "    \"is_unbalance\": True,\n",
    "    \"learning_rate\": 0.05,\n",
    "    'lambda_l1': 0.05,\n",
    "    'lambda_l2': 0.05,\n",
    "    'feature_fraction': 0.8,\n",
    "    'bagging_fraction': 0.8,\n",
    "    'bagging_freq': 1,\n",
    "    \"label_gain\": [i for i in range(60)],\n",
    "    'force_col_wise': True,\n",
    "    'bin_construct_sample_cnt': 1_500_000,\n",
    "    # 'max_bin': 1023,\n",
    "    }\n",
    "\n",
    "ranker = lightgbm.train(\n",
    "    params=params,\n",
    "    train_set=dataset_train,\n",
    "    num_boost_round=10_000,\n",
    "    valid_sets=[dataset_val],\n",
    "    # feval=custom_recall\n",
    "    callbacks=[\n",
    "        lightgbm.early_stopping(100),\n",
    "        lightgbm.log_evaluation(50)\n",
    "    ],\n",
    ")"
   ]
  },
  {
   "cell_type": "code",
   "execution_count": 27,
   "metadata": {},
   "outputs": [
    {
     "data": {
      "text/plain": [
       "<lightgbm.basic.Booster at 0x2866df05c30>"
      ]
     },
     "execution_count": 27,
     "metadata": {},
     "output_type": "execute_result"
    }
   ],
   "source": [
    "ranker.save_model('./models/lgb/ranker_32feat_2902it.lgb')"
   ]
  },
  {
   "cell_type": "code",
   "execution_count": 28,
   "metadata": {},
   "outputs": [
    {
     "data": {
      "text/plain": [
       "[('als_sim_max', 3850),\n",
       " ('als_sim_score', 3793),\n",
       " ('item_id_mean_timespent_shift_0', 3674),\n",
       " ('als_sim_rank', 3499),\n",
       " ('source_item_retention_perc', 3498),\n",
       " ('source_item_timespent_perc_nz', 3420),\n",
       " ('source_item_count_norm', 3256),\n",
       " ('source_item_timespent_norm', 3083),\n",
       " ('source_item_timespent_perc', 2991),\n",
       " ('content_sim_max', 2984),\n",
       " ('source_id_mean_timespent_shift_0', 2978),\n",
       " ('views_per_artist', 2885),\n",
       " ('timespent_per_view', 2881),\n",
       " ('als_sim_mean', 2851),\n",
       " ('timespent_per_artist', 2816),\n",
       " ('item_id_mean_timespent_shift_10', 2804),\n",
       " ('total_timespent', 2622),\n",
       " ('als_sim_std', 2607),\n",
       " ('content_sim_mean', 2407),\n",
       " ('item_id_mean_timespent_shift_50', 2395),\n",
       " ('source_id_mean_timespent_shift_100', 2378),\n",
       " ('bm25_sim_mean', 2377),\n",
       " ('source_id_mean_timespent_shift_10', 2360),\n",
       " ('content_sim_std', 2284),\n",
       " ('als_sim_min', 2244),\n",
       " ('source_item_rank', 2168),\n",
       " ('item_id_mean_timespent_shift_100', 2145),\n",
       " ('source_id_mean_timespent_shift_50', 2109),\n",
       " ('content_sim_min', 2092),\n",
       " ('bm25_sim_std', 1949),\n",
       " ('bm25_sim_max', 1916),\n",
       " ('bm25_sim_min', 1744)]"
      ]
     },
     "execution_count": 28,
     "metadata": {},
     "output_type": "execute_result"
    }
   ],
   "source": [
    "from operator import itemgetter\n",
    "\n",
    "fim = dict(zip(val_pt_cols, ranker.feature_importance()))\n",
    "sorted(fim.items(), key=itemgetter(1), reverse=True)"
   ]
  },
  {
   "cell_type": "code",
   "execution_count": null,
   "metadata": {},
   "outputs": [],
   "source": []
  },
  {
   "cell_type": "code",
   "execution_count": null,
   "metadata": {},
   "outputs": [],
   "source": []
  }
 ],
 "metadata": {
  "kernelspec": {
   "display_name": "Python 3",
   "language": "python",
   "name": "python3"
  },
  "language_info": {
   "codemirror_mode": {
    "name": "ipython",
    "version": 3
   },
   "file_extension": ".py",
   "mimetype": "text/x-python",
   "name": "python",
   "nbconvert_exporter": "python",
   "pygments_lexer": "ipython3",
   "version": "3.10.9"
  },
  "orig_nbformat": 4,
  "vscode": {
   "interpreter": {
    "hash": "be9aa36d7e3afdff118a475fbad3be8b1fefaba27a5e9b3c7f20b4e187884c51"
   }
  }
 },
 "nbformat": 4,
 "nbformat_minor": 2
}
