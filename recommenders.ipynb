{
 "cells": [
  {
   "cell_type": "code",
   "execution_count": 1,
   "metadata": {},
   "outputs": [],
   "source": [
    "import polars as pl\n",
    "import pandas as pd \n",
    "import numpy as np\n",
    "\n",
    "from recommenders.als_recommender import train_als, ALSRecommender\n",
    "from recommenders.bm25_recommender import train_bm25, Item2ItemRecommender\n",
    "from recommenders.popular_recommender import calculate_popularity, PopularRecommender\n",
    "from recommenders.content_recommender import calculate_similar_items, ContentRecommender\n",
    "from recommenders.utils import recalculate_target_all_time, recalculate_target_users_hist"
   ]
  },
  {
   "cell_type": "code",
   "execution_count": 2,
   "metadata": {},
   "outputs": [],
   "source": [
    "train_df = pd.read_parquet('./data/train.parquet.gzip').rename_axis('timestamp')\n",
    "\n",
    "train_split = pd.read_parquet('./data/splits/train.parquet.gzip')\n",
    "val_no_targets = pd.read_parquet('./data/splits/val_no_targets.parquet.gzip')\n",
    "val_targets = pd.read_parquet('./data/splits/val_targets.parquet.gzip')\n",
    "\n",
    "test_df = pd.read_parquet('./data/test.parquet.gzip')\n",
    "items_meta_df = pd.read_parquet('./data/items_meta.parquet.gzip')\n",
    "fresh_candidates_df = pd.read_parquet('./data/fresh_candidates.parquet.gzip')"
   ]
  },
  {
   "attachments": {},
   "cell_type": "markdown",
   "metadata": {},
   "source": [
    "### ALS Recommender"
   ]
  },
  {
   "cell_type": "code",
   "execution_count": null,
   "metadata": {},
   "outputs": [],
   "source": [
    "# train_split = recalculate_target_all_time(\n",
    "#     train_split, \n",
    "#     alpha_coeff = 100.0, \n",
    "#     reaction_coeff = 6.0)\n",
    "\n",
    "# train_df = recalculate_target_all_time(\n",
    "#     train_df, \n",
    "#     alpha_coeff = 100.0, \n",
    "#     reaction_coeff = 6.0)\n",
    "\n",
    "# print(f\"Train split: {train_split.shape[0]:_}\")\n",
    "# print(f'Train full: {train_df.shape[0]:_}')"
   ]
  },
  {
   "cell_type": "code",
   "execution_count": 3,
   "metadata": {},
   "outputs": [
    {
     "name": "stdout",
     "output_type": "stream",
     "text": [
      "Converted data to sparse: (1000183, 227606)\n"
     ]
    },
    {
     "data": {
      "application/vnd.jupyter.widget-view+json": {
       "model_id": "d5053e6fa46a4eb5a82a7b908fd34962",
       "version_major": 2,
       "version_minor": 0
      },
      "text/plain": [
       "  0%|          | 0/25 [00:00<?, ?it/s]"
      ]
     },
     "metadata": {},
     "output_type": "display_data"
    },
    {
     "name": "stdout",
     "output_type": "stream",
     "text": [
      "Saved model to: ./models/als/recommender_val.pkl\n",
      "Saved sparse matrix to: ./models/als/matrix_val.npz\n",
      "Converted data to sparse: (1000183, 227606)\n"
     ]
    },
    {
     "data": {
      "application/vnd.jupyter.widget-view+json": {
       "model_id": "4a5cb622af9941099231bd519d94a323",
       "version_major": 2,
       "version_minor": 0
      },
      "text/plain": [
       "  0%|          | 0/25 [00:00<?, ?it/s]"
      ]
     },
     "metadata": {},
     "output_type": "display_data"
    },
    {
     "name": "stdout",
     "output_type": "stream",
     "text": [
      "Saved model to: ./models/als/recommender_test.pkl\n",
      "Saved sparse matrix to: ./models/als/matrix_test.npz\n"
     ]
    }
   ],
   "source": [
    "recommender_train_split, sparse_train_split = train_als(\n",
    "    train_split,  \n",
    "    factors = 512, \n",
    "    iterations = 75,\n",
    "    regularization = 2.5,   \n",
    "    save_result = True,\n",
    "    model_name = 'val',\n",
    "    root_dir = './models/als/'\n",
    "    )\n",
    "\n",
    "als_recommender_val = ALSRecommender(\n",
    "    als_model = recommender_train_split, \n",
    "    sparse_user_item = sparse_train_split\n",
    "    )\n",
    "\n",
    "\n",
    "recommender_train_full, sparse_train_full = train_als(\n",
    "    train_df,  \n",
    "    factors = 512, \n",
    "    iterations = 75,\n",
    "    regularization = 2.5, \n",
    "    save_result = True,\n",
    "    model_name = 'test',\n",
    "    root_dir = './models/als/'\n",
    "    )\n",
    "\n",
    "als_recommender_test = ALSRecommender(\n",
    "    als_model = recommender_train_full, \n",
    "    sparse_user_item = sparse_train_full\n",
    "    )"
   ]
  },
  {
   "cell_type": "code",
   "execution_count": 4,
   "metadata": {},
   "outputs": [],
   "source": [
    "als_candidates_val = als_recommender_val.recommend(\n",
    "    user_ids = val_no_targets.user_id.unique(),\n",
    "    n_recs = 300,\n",
    "    filter_items = None\n",
    "    )\n",
    "\n",
    "als_candidates_test = als_recommender_test.recommend(\n",
    "    user_ids = test_df.user_id.unique(),\n",
    "    n_recs = 300,\n",
    "    filter_items = items_meta_df[~items_meta_df.item_id.isin(fresh_candidates_df.item_id.values)].item_id.values\n",
    "    )"
   ]
  },
  {
   "cell_type": "code",
   "execution_count": 5,
   "metadata": {},
   "outputs": [
    {
     "name": "stdout",
     "output_type": "stream",
     "text": [
      "Recommendations val no targets: 60_000_000\n",
      "Recommendations test: 60_000_000\n"
     ]
    }
   ],
   "source": [
    "print(f'Recommendations val no targets: {als_candidates_val.shape[0]:_}')\n",
    "print(f'Recommendations test: {als_candidates_test.shape[0]:_}')"
   ]
  },
  {
   "cell_type": "code",
   "execution_count": 6,
   "metadata": {},
   "outputs": [
    {
     "data": {
      "text/html": [
       "<div>\n",
       "<style scoped>\n",
       "    .dataframe tbody tr th:only-of-type {\n",
       "        vertical-align: middle;\n",
       "    }\n",
       "\n",
       "    .dataframe tbody tr th {\n",
       "        vertical-align: top;\n",
       "    }\n",
       "\n",
       "    .dataframe thead th {\n",
       "        text-align: right;\n",
       "    }\n",
       "</style>\n",
       "<table border=\"1\" class=\"dataframe\">\n",
       "  <thead>\n",
       "    <tr style=\"text-align: right;\">\n",
       "      <th></th>\n",
       "      <th>user_id</th>\n",
       "      <th>item_id</th>\n",
       "      <th>als_sim_score</th>\n",
       "      <th>als_sim_rank</th>\n",
       "    </tr>\n",
       "  </thead>\n",
       "  <tbody>\n",
       "    <tr>\n",
       "      <th>0</th>\n",
       "      <td>4</td>\n",
       "      <td>93615</td>\n",
       "      <td>0.514802</td>\n",
       "      <td>0</td>\n",
       "    </tr>\n",
       "    <tr>\n",
       "      <th>1</th>\n",
       "      <td>4</td>\n",
       "      <td>87797</td>\n",
       "      <td>0.234164</td>\n",
       "      <td>1</td>\n",
       "    </tr>\n",
       "    <tr>\n",
       "      <th>2</th>\n",
       "      <td>4</td>\n",
       "      <td>159229</td>\n",
       "      <td>0.224879</td>\n",
       "      <td>2</td>\n",
       "    </tr>\n",
       "  </tbody>\n",
       "</table>\n",
       "</div>"
      ],
      "text/plain": [
       "   user_id  item_id  als_sim_score  als_sim_rank\n",
       "0        4    93615       0.514802             0\n",
       "1        4    87797       0.234164             1\n",
       "2        4   159229       0.224879             2"
      ]
     },
     "execution_count": 6,
     "metadata": {},
     "output_type": "execute_result"
    }
   ],
   "source": [
    "als_candidates_val.head(3)"
   ]
  },
  {
   "cell_type": "code",
   "execution_count": 7,
   "metadata": {},
   "outputs": [],
   "source": [
    "als_candidates_val.to_parquet('./data/candidates/als_candidates_300_val.parquet.gzip', compression='gzip')\n",
    "als_candidates_test.to_parquet('./data/candidates/als_candidates_300_test.parquet.gzip', compression='gzip')"
   ]
  },
  {
   "attachments": {},
   "cell_type": "markdown",
   "metadata": {},
   "source": [
    "### BM25 Recommender "
   ]
  },
  {
   "cell_type": "code",
   "execution_count": 8,
   "metadata": {},
   "outputs": [
    {
     "name": "stdout",
     "output_type": "stream",
     "text": [
      "Converted data to sparse: (1000183, 227606)\n"
     ]
    },
    {
     "name": "stderr",
     "output_type": "stream",
     "text": [
      "c:\\Users\\alexuserx\\AppData\\Local\\Programs\\Python\\Python310\\lib\\site-packages\\implicit\\utils.py:138: ParameterWarning: Method expects CSR input, and was passed coo_matrix instead. Converting to CSR took 0.584998369216919 seconds\n",
      "  warnings.warn(\n"
     ]
    },
    {
     "data": {
      "application/vnd.jupyter.widget-view+json": {
       "model_id": "7e892a11930848afaded3b4e9d6d3358",
       "version_major": 2,
       "version_minor": 0
      },
      "text/plain": [
       "  0%|          | 0/227606 [00:00<?, ?it/s]"
      ]
     },
     "metadata": {},
     "output_type": "display_data"
    },
    {
     "name": "stdout",
     "output_type": "stream",
     "text": [
      "Saved model to: ../models/bm25/recommender_val.pkl\n",
      "Converted data to sparse: (1000183, 227606)\n"
     ]
    },
    {
     "name": "stderr",
     "output_type": "stream",
     "text": [
      "c:\\Users\\alexuserx\\AppData\\Local\\Programs\\Python\\Python310\\lib\\site-packages\\implicit\\utils.py:138: ParameterWarning: Method expects CSR input, and was passed coo_matrix instead. Converting to CSR took 0.6319973468780518 seconds\n",
      "  warnings.warn(\n"
     ]
    },
    {
     "data": {
      "application/vnd.jupyter.widget-view+json": {
       "model_id": "6354c4524f4645efbaa79b3d1d533d31",
       "version_major": 2,
       "version_minor": 0
      },
      "text/plain": [
       "  0%|          | 0/227606 [00:00<?, ?it/s]"
      ]
     },
     "metadata": {},
     "output_type": "display_data"
    },
    {
     "name": "stdout",
     "output_type": "stream",
     "text": [
      "Saved model to: ../models/bm25/recommender_test.pkl\n"
     ]
    }
   ],
   "source": [
    "i2i_model_val = train_bm25(\n",
    "    train_split,\n",
    "    K = 500,\n",
    "    K1 = 1.5,\n",
    "    B = 0.75,\n",
    "    save_result = True,\n",
    "    model_name = 'val',\n",
    "    root_dir = './models/bm25/'\n",
    "    )\n",
    "\n",
    "i2i_recommender_val = Item2ItemRecommender(i2i_model_val)\n",
    "\n",
    "\n",
    "i2i_model_test = train_bm25(\n",
    "    train_df,\n",
    "    K = 500,\n",
    "    K1 = 1.5,\n",
    "    B = 0.75,\n",
    "    save_result = True,\n",
    "    model_name = 'test',\n",
    "    root_dir = './models/bm25/'\n",
    "    )\n",
    "\n",
    "i2i_recommender_test = Item2ItemRecommender(i2i_model_test)"
   ]
  },
  {
   "cell_type": "code",
   "execution_count": 9,
   "metadata": {},
   "outputs": [
    {
     "name": "stdout",
     "output_type": "stream",
     "text": [
      "Recommender with args: mode=MZ, n_recs=100, max_els=2\n"
     ]
    },
    {
     "name": "stderr",
     "output_type": "stream",
     "text": [
      "100%|██████████| 200000/200000 [02:40<00:00, 1245.14it/s]\n"
     ]
    },
    {
     "name": "stdout",
     "output_type": "stream",
     "text": [
      "Recommender with args: mode=MZ, n_recs=100, max_els=2\n"
     ]
    },
    {
     "name": "stderr",
     "output_type": "stream",
     "text": [
      "100%|██████████| 200000/200000 [09:43<00:00, 342.79it/s]\n"
     ]
    }
   ],
   "source": [
    "bm25_candidates_val = i2i_recommender_val.recommend(\n",
    "    users_history = val_no_targets,\n",
    "    n_recs = 200,\n",
    "    filter_items = None,\n",
    "    mode = 'MZ',\n",
    "    kwargs = {'max_els': 2}\n",
    "    )\n",
    "\n",
    "bm25_candidates_test = i2i_recommender_test.recommend(\n",
    "    users_history = train_df[train_df.user_id.isin(test_df.user_id.values)],\n",
    "    n_recs = 200,\n",
    "    filter_items = items_meta_df[~items_meta_df.item_id.isin(fresh_candidates_df.item_id.values)].item_id.values,\n",
    "    mode = 'MZ',\n",
    "    kwargs = {'max_els': 2}\n",
    "    )"
   ]
  },
  {
   "cell_type": "code",
   "execution_count": 10,
   "metadata": {},
   "outputs": [
    {
     "name": "stdout",
     "output_type": "stream",
     "text": [
      "Recommendations val no targets: 33_156_657\n",
      "Recommendations test: 32_697_962\n"
     ]
    }
   ],
   "source": [
    "print(f'Recommendations val no targets: {bm25_candidates_val.shape[0]:_}')\n",
    "print(f'Recommendations test: {bm25_candidates_test.shape[0]:_}')"
   ]
  },
  {
   "cell_type": "code",
   "execution_count": 11,
   "metadata": {},
   "outputs": [
    {
     "data": {
      "text/html": [
       "<div>\n",
       "<style scoped>\n",
       "    .dataframe tbody tr th:only-of-type {\n",
       "        vertical-align: middle;\n",
       "    }\n",
       "\n",
       "    .dataframe tbody tr th {\n",
       "        vertical-align: top;\n",
       "    }\n",
       "\n",
       "    .dataframe thead th {\n",
       "        text-align: right;\n",
       "    }\n",
       "</style>\n",
       "<table border=\"1\" class=\"dataframe\">\n",
       "  <thead>\n",
       "    <tr style=\"text-align: right;\">\n",
       "      <th></th>\n",
       "      <th>user_id</th>\n",
       "      <th>item_id</th>\n",
       "      <th>bm25_sim_score</th>\n",
       "      <th>bm25_sim_rank</th>\n",
       "    </tr>\n",
       "  </thead>\n",
       "  <tbody>\n",
       "    <tr>\n",
       "      <th>0</th>\n",
       "      <td>4</td>\n",
       "      <td>214442</td>\n",
       "      <td>1178.543958</td>\n",
       "      <td>1</td>\n",
       "    </tr>\n",
       "    <tr>\n",
       "      <th>1</th>\n",
       "      <td>4</td>\n",
       "      <td>192478</td>\n",
       "      <td>1130.758259</td>\n",
       "      <td>2</td>\n",
       "    </tr>\n",
       "    <tr>\n",
       "      <th>2</th>\n",
       "      <td>4</td>\n",
       "      <td>198859</td>\n",
       "      <td>1073.323649</td>\n",
       "      <td>3</td>\n",
       "    </tr>\n",
       "  </tbody>\n",
       "</table>\n",
       "</div>"
      ],
      "text/plain": [
       "   user_id  item_id  bm25_sim_score  bm25_sim_rank\n",
       "0        4   214442     1178.543958              1\n",
       "1        4   192478     1130.758259              2\n",
       "2        4   198859     1073.323649              3"
      ]
     },
     "execution_count": 11,
     "metadata": {},
     "output_type": "execute_result"
    }
   ],
   "source": [
    "bm25_candidates_val.head(3)"
   ]
  },
  {
   "cell_type": "code",
   "execution_count": 12,
   "metadata": {},
   "outputs": [],
   "source": [
    "bm25_candidates_val.to_parquet('./data/candidates/bm25_candidates_2mz_200_val.parquet.gzip', compression='gzip')\n",
    "bm25_candidates_test.to_parquet('./data/candidates/bm25_candidates_2mz_200_test.parquet.gzip', compression='gzip')"
   ]
  },
  {
   "attachments": {},
   "cell_type": "markdown",
   "metadata": {},
   "source": [
    "### Content Recommender"
   ]
  },
  {
   "cell_type": "code",
   "execution_count": 13,
   "metadata": {},
   "outputs": [
    {
     "name": "stderr",
     "output_type": "stream",
     "text": [
      "100%|██████████| 227606/227606 [49:59<00:00, 75.88it/s] \n",
      "100%|██████████| 227606/227606 [09:48<00:00, 386.45it/s]\n"
     ]
    }
   ],
   "source": [
    "similarities_val = calculate_similar_items(\n",
    "    embeddings_matrix = np.stack(items_meta_df['embeddings'].to_numpy(), axis=0),\n",
    "    n_recs = 200,\n",
    "    candidates_df = None,\n",
    "    save_result = True,\n",
    "    file_name = 'val',\n",
    "    root_dir = './models/content/'\n",
    "    )\n",
    "\n",
    "similarities_test = calculate_similar_items(\n",
    "    embeddings_matrix = np.stack(items_meta_df['embeddings'].to_numpy(), axis=0),\n",
    "    n_recs = 200,\n",
    "    candidates_df = fresh_candidates_df,\n",
    "    save_result = True,\n",
    "    file_name = 'test',\n",
    "    root_dir = './models/content/'\n",
    "    )"
   ]
  },
  {
   "cell_type": "code",
   "execution_count": 14,
   "metadata": {},
   "outputs": [],
   "source": [
    "content_recommender_val = ContentRecommender(similarities_df = similarities_val)\n",
    "content_recommender_test = ContentRecommender(similarities_df = similarities_test)\n",
    "\n",
    "# content_recommender_val = ContentRecommender(similarities_filepath = './models/content/similarities_val.parquet.gzip')\n",
    "# content_recommender_test = ContentRecommender(similarities_filepath = './models/content/similarities_test.parquet.gzip')"
   ]
  },
  {
   "cell_type": "code",
   "execution_count": 15,
   "metadata": {},
   "outputs": [
    {
     "name": "stdout",
     "output_type": "stream",
     "text": [
      "Recommender with args: mode=MZ, n_recs=75, max_els=2\n"
     ]
    },
    {
     "name": "stderr",
     "output_type": "stream",
     "text": [
      "100%|██████████| 200000/200000 [01:50<00:00, 1808.55it/s]\n"
     ]
    },
    {
     "name": "stdout",
     "output_type": "stream",
     "text": [
      "Recommender with args: mode=MZ, n_recs=75, max_els=2\n"
     ]
    },
    {
     "name": "stderr",
     "output_type": "stream",
     "text": [
      "100%|██████████| 200000/200000 [01:54<00:00, 1754.23it/s]\n"
     ]
    }
   ],
   "source": [
    "content_candidates_val = content_recommender_val.recommend(\n",
    "    users_history = val_no_targets,\n",
    "    n_recs = 150,\n",
    "    mode = 'MZ',\n",
    "    kwargs = {'max_els': 2}\n",
    "    )\n",
    "\n",
    "content_candidates_test = content_recommender_test.recommend(\n",
    "    users_history = train_df[train_df.user_id.isin(test_df.user_id.values)],\n",
    "    n_recs = 150,\n",
    "    mode = 'MZ',\n",
    "    kwargs = {'max_els': 2}\n",
    "    )"
   ]
  },
  {
   "cell_type": "code",
   "execution_count": 16,
   "metadata": {},
   "outputs": [
    {
     "name": "stdout",
     "output_type": "stream",
     "text": [
      "Recommendations val no targets: 29_242_627\n",
      "Recommendations test: 29_095_094\n"
     ]
    }
   ],
   "source": [
    "print(f'Recommendations val no targets: {content_candidates_val.shape[0]:_}')\n",
    "print(f'Recommendations test: {content_candidates_test.shape[0]:_}')"
   ]
  },
  {
   "cell_type": "code",
   "execution_count": 17,
   "metadata": {},
   "outputs": [
    {
     "data": {
      "text/html": [
       "<div>\n",
       "<style scoped>\n",
       "    .dataframe tbody tr th:only-of-type {\n",
       "        vertical-align: middle;\n",
       "    }\n",
       "\n",
       "    .dataframe tbody tr th {\n",
       "        vertical-align: top;\n",
       "    }\n",
       "\n",
       "    .dataframe thead th {\n",
       "        text-align: right;\n",
       "    }\n",
       "</style>\n",
       "<table border=\"1\" class=\"dataframe\">\n",
       "  <thead>\n",
       "    <tr style=\"text-align: right;\">\n",
       "      <th></th>\n",
       "      <th>user_id</th>\n",
       "      <th>item_id</th>\n",
       "      <th>content_sim_score</th>\n",
       "      <th>content_sim_rank</th>\n",
       "    </tr>\n",
       "  </thead>\n",
       "  <tbody>\n",
       "    <tr>\n",
       "      <th>0</th>\n",
       "      <td>4</td>\n",
       "      <td>105185</td>\n",
       "      <td>0.908647</td>\n",
       "      <td>0</td>\n",
       "    </tr>\n",
       "    <tr>\n",
       "      <th>1</th>\n",
       "      <td>4</td>\n",
       "      <td>172462</td>\n",
       "      <td>0.904849</td>\n",
       "      <td>1</td>\n",
       "    </tr>\n",
       "    <tr>\n",
       "      <th>2</th>\n",
       "      <td>4</td>\n",
       "      <td>24481</td>\n",
       "      <td>0.904252</td>\n",
       "      <td>2</td>\n",
       "    </tr>\n",
       "  </tbody>\n",
       "</table>\n",
       "</div>"
      ],
      "text/plain": [
       "   user_id  item_id  content_sim_score  content_sim_rank\n",
       "0        4   105185           0.908647                 0\n",
       "1        4   172462           0.904849                 1\n",
       "2        4    24481           0.904252                 2"
      ]
     },
     "execution_count": 17,
     "metadata": {},
     "output_type": "execute_result"
    }
   ],
   "source": [
    "content_candidates_val.head(3)"
   ]
  },
  {
   "cell_type": "code",
   "execution_count": 18,
   "metadata": {},
   "outputs": [],
   "source": [
    "content_candidates_val.to_parquet('./data/candidates/content_candidates_2mz_150_val.parquet.gzip', compression='gzip')\n",
    "content_candidates_test.to_parquet('./data/candidates/content_candidates_2mz_150_test.parquet.gzip', compression='gzip')"
   ]
  },
  {
   "attachments": {},
   "cell_type": "markdown",
   "metadata": {},
   "source": [
    "### Popular Recommender \n"
   ]
  },
  {
   "cell_type": "code",
   "execution_count": 19,
   "metadata": {},
   "outputs": [],
   "source": [
    "train_split_popularity = calculate_popularity(train_split, last_n = 100)\n",
    "popular_recommender_val_no_targets = PopularRecommender(train_split_popularity)\n",
    "\n",
    "train_df_popularity = calculate_popularity(train_df, last_n = 100)\n",
    "popular_recommender_test = PopularRecommender(train_df_popularity)"
   ]
  },
  {
   "cell_type": "code",
   "execution_count": 20,
   "metadata": {},
   "outputs": [],
   "source": [
    "popular_candidates_val = popular_recommender_val_no_targets.recommend(\n",
    "    history_df = val_no_targets, \n",
    "    n_recs = 200, \n",
    "    filter_items = None\n",
    "    )\n",
    "\n",
    "popular_candidates_test = popular_recommender_test.recommend(\n",
    "    history_df = train_df[train_df.user_id.isin(test_df.user_id.values)], \n",
    "    n_recs = 200, \n",
    "    filter_items = items_meta_df[~items_meta_df.item_id.isin(fresh_candidates_df.item_id.values)].item_id.values\n",
    "    )"
   ]
  },
  {
   "cell_type": "code",
   "execution_count": 21,
   "metadata": {},
   "outputs": [
    {
     "name": "stdout",
     "output_type": "stream",
     "text": [
      "Recommendations val no targets: 39_979_012\n",
      "Recommendations test: 39_941_434\n"
     ]
    }
   ],
   "source": [
    "print(f'Recommendations val no targets: {popular_candidates_val.shape[0]:_}')\n",
    "print(f'Recommendations test: {popular_candidates_test.shape[0]:_}')"
   ]
  },
  {
   "cell_type": "code",
   "execution_count": 22,
   "metadata": {},
   "outputs": [
    {
     "data": {
      "text/html": [
       "<div>\n",
       "<style scoped>\n",
       "    .dataframe tbody tr th:only-of-type {\n",
       "        vertical-align: middle;\n",
       "    }\n",
       "\n",
       "    .dataframe tbody tr th {\n",
       "        vertical-align: top;\n",
       "    }\n",
       "\n",
       "    .dataframe thead th {\n",
       "        text-align: right;\n",
       "    }\n",
       "</style>\n",
       "<table border=\"1\" class=\"dataframe\">\n",
       "  <thead>\n",
       "    <tr style=\"text-align: right;\">\n",
       "      <th></th>\n",
       "      <th>user_id</th>\n",
       "      <th>item_id</th>\n",
       "      <th>mean_timespent</th>\n",
       "    </tr>\n",
       "  </thead>\n",
       "  <tbody>\n",
       "    <tr>\n",
       "      <th>0</th>\n",
       "      <td>4</td>\n",
       "      <td>4628</td>\n",
       "      <td>25.800000</td>\n",
       "    </tr>\n",
       "    <tr>\n",
       "      <th>1</th>\n",
       "      <td>4</td>\n",
       "      <td>169029</td>\n",
       "      <td>14.200000</td>\n",
       "    </tr>\n",
       "    <tr>\n",
       "      <th>2</th>\n",
       "      <td>4</td>\n",
       "      <td>146586</td>\n",
       "      <td>13.283721</td>\n",
       "    </tr>\n",
       "  </tbody>\n",
       "</table>\n",
       "</div>"
      ],
      "text/plain": [
       "   user_id  item_id  mean_timespent\n",
       "0        4     4628       25.800000\n",
       "1        4   169029       14.200000\n",
       "2        4   146586       13.283721"
      ]
     },
     "execution_count": 22,
     "metadata": {},
     "output_type": "execute_result"
    }
   ],
   "source": [
    "popular_candidates_val.head(3)"
   ]
  },
  {
   "cell_type": "code",
   "execution_count": 24,
   "metadata": {},
   "outputs": [],
   "source": [
    "popular_candidates_val.to_parquet('./data/candidates/popular_candidates_200_val.parquet.gzip', compression='gzip')\n",
    "popular_candidates_test.to_parquet('./data/candidates/popular_candidates_200_test.parquet.gzip', compression='gzip')"
   ]
  },
  {
   "cell_type": "code",
   "execution_count": null,
   "metadata": {},
   "outputs": [],
   "source": []
  },
  {
   "cell_type": "code",
   "execution_count": null,
   "metadata": {},
   "outputs": [],
   "source": []
  }
 ],
 "metadata": {
  "kernelspec": {
   "display_name": "Python 3",
   "language": "python",
   "name": "python3"
  },
  "language_info": {
   "codemirror_mode": {
    "name": "ipython",
    "version": 3
   },
   "file_extension": ".py",
   "mimetype": "text/x-python",
   "name": "python",
   "nbconvert_exporter": "python",
   "pygments_lexer": "ipython3",
   "version": "3.10.9"
  },
  "orig_nbformat": 4,
  "vscode": {
   "interpreter": {
    "hash": "be9aa36d7e3afdff118a475fbad3be8b1fefaba27a5e9b3c7f20b4e187884c51"
   }
  }
 },
 "nbformat": 4,
 "nbformat_minor": 2
}
