{
 "cells": [
  {
   "cell_type": "code",
   "execution_count": 1,
   "metadata": {},
   "outputs": [],
   "source": [
    "import random\n",
    "import implicit\n",
    "import pickle \n",
    "\n",
    "import pandas as pd\n",
    "import numpy as np\n",
    "import polars as pl\n",
    "\n",
    "from tqdm import tqdm\n",
    "from scipy import sparse\n",
    "\n",
    "import lightgbm"
   ]
  },
  {
   "cell_type": "code",
   "execution_count": 2,
   "metadata": {},
   "outputs": [
    {
     "name": "stdout",
     "output_type": "stream",
     "text": [
      "Test shape: (86284083, 49)\n"
     ]
    }
   ],
   "source": [
    "def cast_to_float32(pl_frame: pl.DataFrame):\n",
    "    float_columns = [\n",
    "        col for col in pl_frame.columns\n",
    "        if pl_frame[col].dtype == pl.Float64 or (pl_frame[col].dtype == pl.Int64 and pl_frame[col].null_count() > 0)\n",
    "    ]\n",
    "    return pl_frame.with_columns([pl.col(col).cast(pl.Float32) for col in float_columns])\n",
    "\n",
    "def read_parquet(path: str) -> pl.DataFrame:\n",
    "    df = pl.read_parquet(path)\n",
    "    for col in ['user_id', 'item_id', 'source_id']:\n",
    "        if col in df.columns:\n",
    "            df = df.with_columns(pl.col(col).cast(pl.Int32, strict=False))\n",
    "\n",
    "    if '__index_level_0__' in df.columns:\n",
    "        df = df.drop(['__index_level_0__'])\n",
    "    return df\n",
    "\n",
    "test_path = '../data/final_df/test/merged_features_test_rs.parquet.gzip'\n",
    "merged_test = cast_to_float32(read_parquet(test_path))\n",
    "\n",
    "merged_test = merged_test.to_pandas()\n",
    "print(f'Test shape: {merged_test.shape}')"
   ]
  },
  {
   "cell_type": "code",
   "execution_count": 5,
   "metadata": {},
   "outputs": [],
   "source": [
    "ranker = lightgbm.Booster(model_file='../models/lgb/als250_bm150_cont150_40feat_w_rank_n_score_2711it_modif_tg.lgb')"
   ]
  },
  {
   "cell_type": "code",
   "execution_count": 6,
   "metadata": {},
   "outputs": [],
   "source": [
    "preds_final_test = ranker.predict(merged_test[ranker.feature_name()])"
   ]
  },
  {
   "cell_type": "code",
   "execution_count": 7,
   "metadata": {},
   "outputs": [
    {
     "name": "stderr",
     "output_type": "stream",
     "text": [
      "C:\\Users\\alexuserx\\AppData\\Local\\Temp\\ipykernel_2536\\54242499.py:2: SettingWithCopyWarning: \n",
      "A value is trying to be set on a copy of a slice from a DataFrame.\n",
      "Try using .loc[row_indexer,col_indexer] = value instead\n",
      "\n",
      "See the caveats in the documentation: https://pandas.pydata.org/pandas-docs/stable/user_guide/indexing.html#returning-a-view-versus-a-copy\n",
      "  prediction_df['predictions'] = preds_final_test\n"
     ]
    },
    {
     "data": {
      "text/html": [
       "<div>\n",
       "<style scoped>\n",
       "    .dataframe tbody tr th:only-of-type {\n",
       "        vertical-align: middle;\n",
       "    }\n",
       "\n",
       "    .dataframe tbody tr th {\n",
       "        vertical-align: top;\n",
       "    }\n",
       "\n",
       "    .dataframe thead th {\n",
       "        text-align: right;\n",
       "    }\n",
       "</style>\n",
       "<table border=\"1\" class=\"dataframe\">\n",
       "  <thead>\n",
       "    <tr style=\"text-align: right;\">\n",
       "      <th></th>\n",
       "      <th>user_id</th>\n",
       "      <th>predictions</th>\n",
       "    </tr>\n",
       "  </thead>\n",
       "  <tbody>\n",
       "    <tr>\n",
       "      <th>0</th>\n",
       "      <td>7</td>\n",
       "      <td>[115127, 221001, 77577, 2216, 12697, 162251, 6...</td>\n",
       "    </tr>\n",
       "    <tr>\n",
       "      <th>1</th>\n",
       "      <td>8</td>\n",
       "      <td>[142183, 44222, 163702, 97249, 49912, 46440, 2...</td>\n",
       "    </tr>\n",
       "    <tr>\n",
       "      <th>2</th>\n",
       "      <td>9</td>\n",
       "      <td>[32474, 53603, 4804, 227299, 194428, 29054, 14...</td>\n",
       "    </tr>\n",
       "    <tr>\n",
       "      <th>3</th>\n",
       "      <td>11</td>\n",
       "      <td>[83212, 533, 149738, 116476, 56056, 215901, 14...</td>\n",
       "    </tr>\n",
       "    <tr>\n",
       "      <th>4</th>\n",
       "      <td>18</td>\n",
       "      <td>[7871, 225311, 120767, 155973, 129830, 131220,...</td>\n",
       "    </tr>\n",
       "    <tr>\n",
       "      <th>...</th>\n",
       "      <td>...</td>\n",
       "      <td>...</td>\n",
       "    </tr>\n",
       "    <tr>\n",
       "      <th>199995</th>\n",
       "      <td>1000160</td>\n",
       "      <td>[70456, 125478, 220549, 170326, 41241, 86886, ...</td>\n",
       "    </tr>\n",
       "    <tr>\n",
       "      <th>199996</th>\n",
       "      <td>1000165</td>\n",
       "      <td>[120027, 161636, 87174, 210739, 74367, 194017,...</td>\n",
       "    </tr>\n",
       "    <tr>\n",
       "      <th>199997</th>\n",
       "      <td>1000166</td>\n",
       "      <td>[217651, 181415, 128307, 82546, 162492, 160944...</td>\n",
       "    </tr>\n",
       "    <tr>\n",
       "      <th>199998</th>\n",
       "      <td>1000168</td>\n",
       "      <td>[186660, 150028, 98002, 101773, 141730, 179166...</td>\n",
       "    </tr>\n",
       "    <tr>\n",
       "      <th>199999</th>\n",
       "      <td>1000172</td>\n",
       "      <td>[186660, 33213, 117317, 203973, 38536, 120965,...</td>\n",
       "    </tr>\n",
       "  </tbody>\n",
       "</table>\n",
       "<p>200000 rows × 2 columns</p>\n",
       "</div>"
      ],
      "text/plain": [
       "        user_id                                        predictions\n",
       "0             7  [115127, 221001, 77577, 2216, 12697, 162251, 6...\n",
       "1             8  [142183, 44222, 163702, 97249, 49912, 46440, 2...\n",
       "2             9  [32474, 53603, 4804, 227299, 194428, 29054, 14...\n",
       "3            11  [83212, 533, 149738, 116476, 56056, 215901, 14...\n",
       "4            18  [7871, 225311, 120767, 155973, 129830, 131220,...\n",
       "...         ...                                                ...\n",
       "199995  1000160  [70456, 125478, 220549, 170326, 41241, 86886, ...\n",
       "199996  1000165  [120027, 161636, 87174, 210739, 74367, 194017,...\n",
       "199997  1000166  [217651, 181415, 128307, 82546, 162492, 160944...\n",
       "199998  1000168  [186660, 150028, 98002, 101773, 141730, 179166...\n",
       "199999  1000172  [186660, 33213, 117317, 203973, 38536, 120965,...\n",
       "\n",
       "[200000 rows x 2 columns]"
      ]
     },
     "execution_count": 7,
     "metadata": {},
     "output_type": "execute_result"
    }
   ],
   "source": [
    "prediction_df = merged_test[['user_id', 'item_id']]\n",
    "prediction_df['predictions'] = preds_final_test\n",
    "\n",
    "prediction_df_sorted = prediction_df.sort_values(['user_id', 'predictions'], ascending=[True, False])\n",
    "prediction_df_sorted['rnk'] = prediction_df_sorted.groupby('user_id').cumcount()\n",
    "\n",
    "prf = prediction_df_sorted[prediction_df_sorted['rnk'] < 20].groupby('user_id', as_index=False)['item_id'].agg(list)\n",
    "prf = prf.rename(columns={'item_id': 'predictions'})\n",
    "prf"
   ]
  },
  {
   "cell_type": "code",
   "execution_count": 8,
   "metadata": {},
   "outputs": [],
   "source": [
    "prf.to_parquet('../data/submissions/pred_final_attm_5_40f_modif_tg.parquet.gzip', compression='gzip')"
   ]
  },
  {
   "cell_type": "code",
   "execution_count": 9,
   "metadata": {},
   "outputs": [
    {
     "data": {
      "text/html": [
       "<div>\n",
       "<style scoped>\n",
       "    .dataframe tbody tr th:only-of-type {\n",
       "        vertical-align: middle;\n",
       "    }\n",
       "\n",
       "    .dataframe tbody tr th {\n",
       "        vertical-align: top;\n",
       "    }\n",
       "\n",
       "    .dataframe thead th {\n",
       "        text-align: right;\n",
       "    }\n",
       "</style>\n",
       "<table border=\"1\" class=\"dataframe\">\n",
       "  <thead>\n",
       "    <tr style=\"text-align: right;\">\n",
       "      <th></th>\n",
       "      <th>user_id</th>\n",
       "      <th>predictions</th>\n",
       "    </tr>\n",
       "  </thead>\n",
       "  <tbody>\n",
       "    <tr>\n",
       "      <th>0</th>\n",
       "      <td>7</td>\n",
       "      <td>[115127, 221001, 77577, 2216, 12697, 162251, 6...</td>\n",
       "    </tr>\n",
       "    <tr>\n",
       "      <th>1</th>\n",
       "      <td>8</td>\n",
       "      <td>[142183, 44222, 163702, 97249, 49912, 46440, 2...</td>\n",
       "    </tr>\n",
       "    <tr>\n",
       "      <th>2</th>\n",
       "      <td>9</td>\n",
       "      <td>[32474, 53603, 4804, 227299, 194428, 29054, 14...</td>\n",
       "    </tr>\n",
       "    <tr>\n",
       "      <th>3</th>\n",
       "      <td>11</td>\n",
       "      <td>[83212, 533, 149738, 116476, 56056, 215901, 14...</td>\n",
       "    </tr>\n",
       "    <tr>\n",
       "      <th>4</th>\n",
       "      <td>18</td>\n",
       "      <td>[7871, 225311, 120767, 155973, 129830, 131220,...</td>\n",
       "    </tr>\n",
       "    <tr>\n",
       "      <th>...</th>\n",
       "      <td>...</td>\n",
       "      <td>...</td>\n",
       "    </tr>\n",
       "    <tr>\n",
       "      <th>199995</th>\n",
       "      <td>1000160</td>\n",
       "      <td>[70456, 125478, 220549, 170326, 41241, 86886, ...</td>\n",
       "    </tr>\n",
       "    <tr>\n",
       "      <th>199996</th>\n",
       "      <td>1000165</td>\n",
       "      <td>[120027, 161636, 87174, 210739, 74367, 194017,...</td>\n",
       "    </tr>\n",
       "    <tr>\n",
       "      <th>199997</th>\n",
       "      <td>1000166</td>\n",
       "      <td>[217651, 181415, 128307, 82546, 162492, 160944...</td>\n",
       "    </tr>\n",
       "    <tr>\n",
       "      <th>199998</th>\n",
       "      <td>1000168</td>\n",
       "      <td>[186660, 150028, 98002, 101773, 141730, 179166...</td>\n",
       "    </tr>\n",
       "    <tr>\n",
       "      <th>199999</th>\n",
       "      <td>1000172</td>\n",
       "      <td>[186660, 33213, 117317, 203973, 38536, 120965,...</td>\n",
       "    </tr>\n",
       "  </tbody>\n",
       "</table>\n",
       "<p>200000 rows × 2 columns</p>\n",
       "</div>"
      ],
      "text/plain": [
       "        user_id                                        predictions\n",
       "0             7  [115127, 221001, 77577, 2216, 12697, 162251, 6...\n",
       "1             8  [142183, 44222, 163702, 97249, 49912, 46440, 2...\n",
       "2             9  [32474, 53603, 4804, 227299, 194428, 29054, 14...\n",
       "3            11  [83212, 533, 149738, 116476, 56056, 215901, 14...\n",
       "4            18  [7871, 225311, 120767, 155973, 129830, 131220,...\n",
       "...         ...                                                ...\n",
       "199995  1000160  [70456, 125478, 220549, 170326, 41241, 86886, ...\n",
       "199996  1000165  [120027, 161636, 87174, 210739, 74367, 194017,...\n",
       "199997  1000166  [217651, 181415, 128307, 82546, 162492, 160944...\n",
       "199998  1000168  [186660, 150028, 98002, 101773, 141730, 179166...\n",
       "199999  1000172  [186660, 33213, 117317, 203973, 38536, 120965,...\n",
       "\n",
       "[200000 rows x 2 columns]"
      ]
     },
     "execution_count": 9,
     "metadata": {},
     "output_type": "execute_result"
    }
   ],
   "source": [
    "prf[prf['predictions'].apply(len) == 20]"
   ]
  },
  {
   "cell_type": "code",
   "execution_count": null,
   "metadata": {},
   "outputs": [],
   "source": []
  },
  {
   "cell_type": "code",
   "execution_count": null,
   "metadata": {},
   "outputs": [],
   "source": []
  },
  {
   "cell_type": "code",
   "execution_count": null,
   "metadata": {},
   "outputs": [],
   "source": []
  },
  {
   "cell_type": "code",
   "execution_count": null,
   "metadata": {},
   "outputs": [],
   "source": []
  },
  {
   "cell_type": "code",
   "execution_count": null,
   "metadata": {},
   "outputs": [],
   "source": []
  }
 ],
 "metadata": {
  "kernelspec": {
   "display_name": "Python 3",
   "language": "python",
   "name": "python3"
  },
  "language_info": {
   "codemirror_mode": {
    "name": "ipython",
    "version": 3
   },
   "file_extension": ".py",
   "mimetype": "text/x-python",
   "name": "python",
   "nbconvert_exporter": "python",
   "pygments_lexer": "ipython3",
   "version": "3.10.6 (tags/v3.10.6:9c7b4bd, Aug  1 2022, 21:53:49) [MSC v.1932 64 bit (AMD64)]"
  },
  "orig_nbformat": 4,
  "vscode": {
   "interpreter": {
    "hash": "be9aa36d7e3afdff118a475fbad3be8b1fefaba27a5e9b3c7f20b4e187884c51"
   }
  }
 },
 "nbformat": 4,
 "nbformat_minor": 2
}
